{
 "cells": [
  {
   "cell_type": "code",
   "execution_count": 1,
   "outputs": [
    {
     "data": {
      "text/plain": "       Country                  VFN           Mp                        Mh  \\\nID                                                                           \n280060      DK                  NaN  SUZUKI POOL  SUZUKI MOTOR CORPORATION   \n280060      BE  IP-02-VF1-2017-0004      RENAULT                   RENAULT   \n280061      DK                  NaN  SUZUKI POOL  SUZUKI MOTOR CORPORATION   \n280061      BE  IP-02-VF1-2017-0004      RENAULT                   RENAULT   \n280062      DK                  NaN  SUZUKI POOL  SUZUKI MOTOR CORPORATION   \n\n                             Man                       MMS  \\\nID                                                           \n280060  SUZUKI MOTOR CORPORATION  SUZUKI MOTOR CORPORATION   \n280060               RENAULT SAS            RENAULT S.A.S.   \n280061  SUZUKI MOTOR CORPORATION  SUZUKI MOTOR CORPORATION   \n280061               RENAULT SAS                   RENAULT   \n280062  SUZUKI MOTOR CORPORATION  SUZUKI MOTOR CORPORATION   \n\n                       Tan   T    Va            Ve  ...   IT Ernedc (g/km)  \\\nID                                                  ...                      \n280060  e4*2007/46*1205*01  AZ  C83S            MT  ...  NaN           NaN   \n280060  E2*2007/46*0457*13  AH  0BE2  M7LSA0100000  ...  NaN           NaN   \n280061  e4*2007/46*1205*01  AZ  C83S            MT  ...  NaN           NaN   \n280061  E2*2007/46*0457*12  AH  0BE2  M7LSA0100000  ...  NaN           NaN   \n280062  e4*2007/46*1205*01  AZ  C83S            MT  ...  NaN           NaN   \n\n       Erwltp (g/km)  De  Vf  Status  year  Date of registration  \\\nID                                                                 \n280060           NaN NaN NaN       F  2018                   NaN   \n280060           NaN NaN NaN       F  2019                   NaN   \n280061           NaN NaN NaN       F  2018                   NaN   \n280061           NaN NaN NaN       F  2019                   NaN   \n280062           NaN NaN NaN       F  2018                   NaN   \n\n        Fuel consumption   Electric range (km)  \nID                                              \n280060                NaN                  NaN  \n280060                NaN                  NaN  \n280061                NaN                  NaN  \n280061                NaN                  NaN  \n280062                NaN                  NaN  \n\n[5 rows x 37 columns]",
      "text/html": "<div>\n<style scoped>\n    .dataframe tbody tr th:only-of-type {\n        vertical-align: middle;\n    }\n\n    .dataframe tbody tr th {\n        vertical-align: top;\n    }\n\n    .dataframe thead th {\n        text-align: right;\n    }\n</style>\n<table border=\"1\" class=\"dataframe\">\n  <thead>\n    <tr style=\"text-align: right;\">\n      <th></th>\n      <th>Country</th>\n      <th>VFN</th>\n      <th>Mp</th>\n      <th>Mh</th>\n      <th>Man</th>\n      <th>MMS</th>\n      <th>Tan</th>\n      <th>T</th>\n      <th>Va</th>\n      <th>Ve</th>\n      <th>...</th>\n      <th>IT</th>\n      <th>Ernedc (g/km)</th>\n      <th>Erwltp (g/km)</th>\n      <th>De</th>\n      <th>Vf</th>\n      <th>Status</th>\n      <th>year</th>\n      <th>Date of registration</th>\n      <th>Fuel consumption</th>\n      <th>Electric range (km)</th>\n    </tr>\n    <tr>\n      <th>ID</th>\n      <th></th>\n      <th></th>\n      <th></th>\n      <th></th>\n      <th></th>\n      <th></th>\n      <th></th>\n      <th></th>\n      <th></th>\n      <th></th>\n      <th></th>\n      <th></th>\n      <th></th>\n      <th></th>\n      <th></th>\n      <th></th>\n      <th></th>\n      <th></th>\n      <th></th>\n      <th></th>\n      <th></th>\n    </tr>\n  </thead>\n  <tbody>\n    <tr>\n      <th>280060</th>\n      <td>DK</td>\n      <td>NaN</td>\n      <td>SUZUKI POOL</td>\n      <td>SUZUKI MOTOR CORPORATION</td>\n      <td>SUZUKI MOTOR CORPORATION</td>\n      <td>SUZUKI MOTOR CORPORATION</td>\n      <td>e4*2007/46*1205*01</td>\n      <td>AZ</td>\n      <td>C83S</td>\n      <td>MT</td>\n      <td>...</td>\n      <td>NaN</td>\n      <td>NaN</td>\n      <td>NaN</td>\n      <td>NaN</td>\n      <td>NaN</td>\n      <td>F</td>\n      <td>2018</td>\n      <td>NaN</td>\n      <td>NaN</td>\n      <td>NaN</td>\n    </tr>\n    <tr>\n      <th>280060</th>\n      <td>BE</td>\n      <td>IP-02-VF1-2017-0004</td>\n      <td>RENAULT</td>\n      <td>RENAULT</td>\n      <td>RENAULT SAS</td>\n      <td>RENAULT S.A.S.</td>\n      <td>E2*2007/46*0457*13</td>\n      <td>AH</td>\n      <td>0BE2</td>\n      <td>M7LSA0100000</td>\n      <td>...</td>\n      <td>NaN</td>\n      <td>NaN</td>\n      <td>NaN</td>\n      <td>NaN</td>\n      <td>NaN</td>\n      <td>F</td>\n      <td>2019</td>\n      <td>NaN</td>\n      <td>NaN</td>\n      <td>NaN</td>\n    </tr>\n    <tr>\n      <th>280061</th>\n      <td>DK</td>\n      <td>NaN</td>\n      <td>SUZUKI POOL</td>\n      <td>SUZUKI MOTOR CORPORATION</td>\n      <td>SUZUKI MOTOR CORPORATION</td>\n      <td>SUZUKI MOTOR CORPORATION</td>\n      <td>e4*2007/46*1205*01</td>\n      <td>AZ</td>\n      <td>C83S</td>\n      <td>MT</td>\n      <td>...</td>\n      <td>NaN</td>\n      <td>NaN</td>\n      <td>NaN</td>\n      <td>NaN</td>\n      <td>NaN</td>\n      <td>F</td>\n      <td>2018</td>\n      <td>NaN</td>\n      <td>NaN</td>\n      <td>NaN</td>\n    </tr>\n    <tr>\n      <th>280061</th>\n      <td>BE</td>\n      <td>IP-02-VF1-2017-0004</td>\n      <td>RENAULT</td>\n      <td>RENAULT</td>\n      <td>RENAULT SAS</td>\n      <td>RENAULT</td>\n      <td>E2*2007/46*0457*12</td>\n      <td>AH</td>\n      <td>0BE2</td>\n      <td>M7LSA0100000</td>\n      <td>...</td>\n      <td>NaN</td>\n      <td>NaN</td>\n      <td>NaN</td>\n      <td>NaN</td>\n      <td>NaN</td>\n      <td>F</td>\n      <td>2019</td>\n      <td>NaN</td>\n      <td>NaN</td>\n      <td>NaN</td>\n    </tr>\n    <tr>\n      <th>280062</th>\n      <td>DK</td>\n      <td>NaN</td>\n      <td>SUZUKI POOL</td>\n      <td>SUZUKI MOTOR CORPORATION</td>\n      <td>SUZUKI MOTOR CORPORATION</td>\n      <td>SUZUKI MOTOR CORPORATION</td>\n      <td>e4*2007/46*1205*01</td>\n      <td>AZ</td>\n      <td>C83S</td>\n      <td>MT</td>\n      <td>...</td>\n      <td>NaN</td>\n      <td>NaN</td>\n      <td>NaN</td>\n      <td>NaN</td>\n      <td>NaN</td>\n      <td>F</td>\n      <td>2018</td>\n      <td>NaN</td>\n      <td>NaN</td>\n      <td>NaN</td>\n    </tr>\n  </tbody>\n</table>\n<p>5 rows × 37 columns</p>\n</div>"
     },
     "execution_count": 1,
     "metadata": {},
     "output_type": "execute_result"
    }
   ],
   "source": [
    "import pandas as pd\n",
    "\n",
    "#defining column types for incoming csv\n",
    "read_dtype={'Country': object,\n",
    "            'VFN': object,\n",
    "            'Mp': object,\n",
    "            'Mh': object,\n",
    "            'Man': object,\n",
    "            'MMS': object,\n",
    "            'Tan': object,\n",
    "            'T': object,\n",
    "            'Va': object,\n",
    "            'Ve': object,\n",
    "            'Mk': object,\n",
    "            'Cn': object,\n",
    "            'Ct': object,\n",
    "            'Cr': object,\n",
    "            'r': int,\n",
    "            'm (kg)': float,#int,\n",
    "            'Mt': float,#int,\n",
    "            'Enedc (g/km)': float,#int,\n",
    "            'Ewltp (g/km)': float,#int,\n",
    "            'W (mm)': float,#int,\n",
    "            'At1 (mm)': float,#int,\n",
    "            'At2 (mm)': float,#int,\n",
    "            'Ft': object,\n",
    "            'Fm': object,\n",
    "            'ec (cm3)': float,#int,\n",
    "            'ep (KW)': float,#int,\n",
    "            'z (Wh/km)': float,#int,\n",
    "            'IT': object,\n",
    "            'Ernedc (g/km)': float,\n",
    "            'Erwltp (g/km)': float,\n",
    "            'De': float,\n",
    "            'Vf': float,#int,\n",
    "            'Status': object,\n",
    "            'year': int,\n",
    "            'Date of registration': object,\n",
    "            'Fuel consumption ': float,\n",
    "            'Electric range (km)': float#int\n",
    "            }\n",
    "\n",
    "df=pd.read_csv(\"/Users/olehpolupan/DataspellProjects/JAN23_BDS_INT-Rakuten/data/data.csv\",\n",
    "               index_col = \"ID\", dtype=read_dtype)\n",
    "df.head()"
   ],
   "metadata": {
    "collapsed": false
   }
  },
  {
   "cell_type": "code",
   "execution_count": 2,
   "outputs": [
    {
     "name": "stdout",
     "output_type": "stream",
     "text": [
      "<class 'pandas.core.frame.DataFrame'>\n",
      "Int64Index: 42511013 entries, 280060 to 162072500\n",
      "Data columns (total 37 columns):\n",
      " #   Column                Dtype  \n",
      "---  ------                -----  \n",
      " 0   Country               object \n",
      " 1   VFN                   object \n",
      " 2   Mp                    object \n",
      " 3   Mh                    object \n",
      " 4   Man                   object \n",
      " 5   MMS                   object \n",
      " 6   Tan                   object \n",
      " 7   T                     object \n",
      " 8   Va                    object \n",
      " 9   Ve                    object \n",
      " 10  Mk                    object \n",
      " 11  Cn                    object \n",
      " 12  Ct                    object \n",
      " 13  Cr                    object \n",
      " 14  r                     int64  \n",
      " 15  m (kg)                float64\n",
      " 16  Mt                    float64\n",
      " 17  Enedc (g/km)          float64\n",
      " 18  Ewltp (g/km)          float64\n",
      " 19  W (mm)                float64\n",
      " 20  At1 (mm)              float64\n",
      " 21  At2 (mm)              float64\n",
      " 22  Ft                    object \n",
      " 23  Fm                    object \n",
      " 24  ec (cm3)              float64\n",
      " 25  ep (KW)               float64\n",
      " 26  z (Wh/km)             float64\n",
      " 27  IT                    object \n",
      " 28  Ernedc (g/km)         float64\n",
      " 29  Erwltp (g/km)         float64\n",
      " 30  De                    float64\n",
      " 31  Vf                    float64\n",
      " 32  Status                object \n",
      " 33  year                  int64  \n",
      " 34  Date of registration  object \n",
      " 35  Fuel consumption      float64\n",
      " 36  Electric range (km)   float64\n",
      "dtypes: float64(16), int64(2), object(19)\n",
      "memory usage: 12.0+ GB\n"
     ]
    }
   ],
   "source": [
    "df.info()"
   ],
   "metadata": {
    "collapsed": false
   }
  },
  {
   "cell_type": "code",
   "execution_count": 4,
   "outputs": [
    {
     "data": {
      "text/plain": "F    42511013\nName: Status, dtype: int64"
     },
     "execution_count": 4,
     "metadata": {},
     "output_type": "execute_result"
    }
   ],
   "source": [
    "#File contains only Final data, we can drop this column\n",
    "df[\"Status\"].value_counts()"
   ],
   "metadata": {
    "collapsed": false
   }
  },
  {
   "cell_type": "code",
   "execution_count": 3,
   "outputs": [],
   "source": [
    "df = df.drop(\"Status\", axis=1)"
   ],
   "metadata": {
    "collapsed": false
   }
  },
  {
   "cell_type": "code",
   "execution_count": 6,
   "outputs": [
    {
     "data": {
      "text/plain": "2019    15499728\n2018    15268846\n2020    11742439\nName: year, dtype: int64"
     },
     "execution_count": 6,
     "metadata": {},
     "output_type": "execute_result"
    }
   ],
   "source": [
    "#Time interval - 2018 - 2020\n",
    "df[\"year\"].value_counts()"
   ],
   "metadata": {
    "collapsed": false
   }
  },
  {
   "cell_type": "code",
   "execution_count": 7,
   "outputs": [
    {
     "data": {
      "text/plain": "PETROL             11354297\npetrol              9780830\nDIESEL              5939927\ndiesel              4937147\nPetrol              4600635\nDiesel              2934863\nELECTRIC             782474\nPETROL/ELECTRIC      666741\nLPG                  357280\nelectric             344986\npetrol/electric      181392\nlpg                  170113\nNG                   109437\nElectric              94818\nPetrol/Electric       76408\nng                    50496\nDIESEL/ELECTRIC       43804\nng-biomethane         18135\ndiesel/electric       13317\nNG-BIOMETHANE         11996\ne85                    7407\nunknown                2870\nDiesel/Electric        2507\nCNG                    2475\nE85                    1732\nHYDROGEN                959\nhydrogen                266\nUNKNOWN                 119\nDiesel/electric          96\nHydrogen                 30\nGNL                       2\nName: Ft, dtype: int64"
     },
     "execution_count": 7,
     "metadata": {},
     "output_type": "execute_result"
    }
   ],
   "source": [
    "df[\"Ft\"].value_counts()\n",
    "#we need to harmonize values"
   ],
   "metadata": {
    "collapsed": false
   }
  },
  {
   "cell_type": "code",
   "execution_count": 4,
   "outputs": [
    {
     "data": {
      "text/plain": "PETROL             25735762\nDIESEL             13811937\nELECTRIC            1222278\nPETROL/ELECTRIC      924541\nLPG                  527393\nNG                   159933\nDIESEL/ELECTRIC       59724\nNG-BIOMETHANE         30131\nE85                    9139\nUNKNOWN                2989\nCNG                    2475\nHYDROGEN               1255\nGNL                       2\nName: Ft, dtype: int64"
     },
     "execution_count": 4,
     "metadata": {},
     "output_type": "execute_result"
    }
   ],
   "source": [
    "#all to uppercase\n",
    "df[\"Ft\"]=df[\"Ft\"].str.upper()\n",
    "df[\"Ft\"].value_counts()"
   ],
   "metadata": {
    "collapsed": false
   }
  },
  {
   "cell_type": "code",
   "execution_count": 5,
   "outputs": [],
   "source": [
    "#let us delete \"unknown\" and \"GNL\" fuel type\n",
    "df = df.drop(df[df[\"Ft\"]==\"UNKNOWN\"].index, axis=0)\n",
    "df = df.drop(df[df[\"Ft\"]==\"GNL\"].index, axis=0)"
   ],
   "metadata": {
    "collapsed": false
   }
  },
  {
   "cell_type": "code",
   "execution_count": 10,
   "outputs": [
    {
     "data": {
      "text/plain": "PETROL             25732693\nDIESEL             13809878\nELECTRIC            1222120\nPETROL/ELECTRIC      924460\nLPG                  527328\nNG                   159890\nDIESEL/ELECTRIC       59723\nNG-BIOMETHANE         30130\nE85                    9139\nCNG                    2475\nHYDROGEN               1255\nName: Ft, dtype: int64"
     },
     "execution_count": 10,
     "metadata": {},
     "output_type": "execute_result"
    }
   ],
   "source": [
    "df[\"Ft\"].value_counts()"
   ],
   "metadata": {
    "collapsed": false
   }
  },
  {
   "cell_type": "code",
   "execution_count": 11,
   "outputs": [
    {
     "data": {
      "text/plain": "2018    10694693\n2019      509885\n2020       21351\nName: year, dtype: int64"
     },
     "execution_count": 11,
     "metadata": {},
     "output_type": "execute_result"
    }
   ],
   "source": [
    "#we have two CO2 standards available in the dataset\n",
    "#new standard\n",
    "df[\"year\"][df[\"Ewltp (g/km)\"].isnull() == True].value_counts()"
   ],
   "metadata": {
    "collapsed": false
   }
  },
  {
   "cell_type": "code",
   "execution_count": 12,
   "outputs": [
    {
     "data": {
      "text/plain": "2018    14073\n2019     6594\n2020     6254\nName: year, dtype: int64"
     },
     "execution_count": 12,
     "metadata": {},
     "output_type": "execute_result"
    }
   ],
   "source": [
    "#old standard\n",
    "df[\"year\"][df[\"Enedc (g/km)\"].isnull() == True].value_counts()"
   ],
   "metadata": {
    "collapsed": false
   }
  },
  {
   "cell_type": "code",
   "execution_count": 13,
   "outputs": [],
   "source": [
    "#Ewltp is newer, so let us take 2020 for it"
   ],
   "metadata": {
    "collapsed": false
   }
  },
  {
   "cell_type": "code",
   "execution_count": 14,
   "outputs": [],
   "source": [
    "#dropping rows with other years\n",
    "df = df.drop(df[~df[\"year\"]==2020].index, axis=0)"
   ],
   "metadata": {
    "collapsed": false
   }
  },
  {
   "cell_type": "code",
   "execution_count": 15,
   "outputs": [],
   "source": [
    "#dropping rows with missing target emissions\n",
    "df = df.dropna(subset=[\"Ewltp (g/km)\"], axis=0)"
   ],
   "metadata": {
    "collapsed": false
   }
  },
  {
   "cell_type": "code",
   "execution_count": 16,
   "outputs": [],
   "source": [
    "#dropping column with old standard\n",
    "df = df.drop(\"Enedc (g/km)\", axis=1)"
   ],
   "metadata": {
    "collapsed": false
   }
  },
  {
   "cell_type": "code",
   "execution_count": 17,
   "outputs": [
    {
     "name": "stdout",
     "output_type": "stream",
     "text": [
      "<class 'pandas.core.frame.DataFrame'>\n",
      "Int64Index: 31276613 entries, 280060 to 162072500\n",
      "Data columns (total 35 columns):\n",
      " #   Column                Dtype  \n",
      "---  ------                -----  \n",
      " 0   Country               object \n",
      " 1   VFN                   object \n",
      " 2   Mp                    object \n",
      " 3   Mh                    object \n",
      " 4   Man                   object \n",
      " 5   MMS                   object \n",
      " 6   Tan                   object \n",
      " 7   T                     object \n",
      " 8   Va                    object \n",
      " 9   Ve                    object \n",
      " 10  Mk                    object \n",
      " 11  Cn                    object \n",
      " 12  Ct                    object \n",
      " 13  Cr                    object \n",
      " 14  r                     int64  \n",
      " 15  m (kg)                float64\n",
      " 16  Mt                    float64\n",
      " 17  Ewltp (g/km)          float64\n",
      " 18  W (mm)                float64\n",
      " 19  At1 (mm)              float64\n",
      " 20  At2 (mm)              float64\n",
      " 21  Ft                    object \n",
      " 22  Fm                    object \n",
      " 23  ec (cm3)              float64\n",
      " 24  ep (KW)               float64\n",
      " 25  z (Wh/km)             float64\n",
      " 26  IT                    object \n",
      " 27  Ernedc (g/km)         float64\n",
      " 28  Erwltp (g/km)         float64\n",
      " 29  De                    float64\n",
      " 30  Vf                    float64\n",
      " 31  year                  int64  \n",
      " 32  Date of registration  object \n",
      " 33  Fuel consumption      float64\n",
      " 34  Electric range (km)   float64\n",
      "dtypes: float64(15), int64(2), object(18)\n",
      "memory usage: 8.4+ GB\n"
     ]
    }
   ],
   "source": [
    "df.info()"
   ],
   "metadata": {
    "collapsed": false
   }
  },
  {
   "cell_type": "code",
   "execution_count": 18,
   "outputs": [
    {
     "data": {
      "text/plain": "       Country                       VFN        Mp               Mh  \\\nID                                                                    \n280060      BE       IP-02-VF1-2017-0004   RENAULT          RENAULT   \n280061      BE       IP-02-VF1-2017-0004   RENAULT          RENAULT   \n280062      BE  IP-HNP____MB6_1424-W0V-0  PSA-OPEL  OPEL AUTOMOBILE   \n280063      BE  IP-HNP____MB6_1424-W0V-0  PSA-OPEL  OPEL AUTOMOBILE   \n280064      BE  IP-HNP____MB6_1424-W0V-0  PSA-OPEL  OPEL AUTOMOBILE   \n\n                         Man                   MMS                 Tan  \\\nID                                                                       \n280060           RENAULT SAS        RENAULT S.A.S.  E2*2007/46*0457*13   \n280061           RENAULT SAS               RENAULT  E2*2007/46*0457*12   \n280062  OPEL AUTOMOBILE GMBH  OPEL AUTOMOBILE GMBH  E4*2007/46*1194*08   \n280063  OPEL AUTOMOBILE GMBH  OPEL AUTOMOBILE GMBH  E4*2007/46*1194*08   \n280064  OPEL AUTOMOBILE GMBH  OPEL AUTOMOBILE GMBH  E4*2007/46*1194*08   \n\n                   T         Va            Ve  ... z (Wh/km)     IT  \\\nID                                             ...                    \n280060            AH       0BE2  M7LSA0100000  ...       NaN    NaN   \n280061            AH       0BE2  M7LSA0100000  ...       NaN    NaN   \n280062  P7 MONOCAB C  EA025DB12   BA1VADPH0A5  ...       NaN  E2 17   \n280063  P7 MONOCAB C  EA025DB12   BA1VADPH0A5  ...       NaN  E2 17   \n280064  P7 MONOCAB C  EA025DB12   BA1VADPH0A5  ...       NaN  E2 17   \n\n       Ernedc (g/km) Erwltp (g/km)  De  Vf  year  Date of registration  \\\nID                                                                       \n280060           NaN           NaN NaN NaN  2019                   NaN   \n280061           NaN           NaN NaN NaN  2019                   NaN   \n280062           1.2           NaN NaN NaN  2019                   NaN   \n280063           1.2           NaN NaN NaN  2019                   NaN   \n280064           1.2           NaN NaN NaN  2019                   NaN   \n\n        Fuel consumption   Electric range (km)  \nID                                              \n280060                NaN                  NaN  \n280061                NaN                  NaN  \n280062                NaN                  NaN  \n280063                NaN                  NaN  \n280064                NaN                  NaN  \n\n[5 rows x 35 columns]",
      "text/html": "<div>\n<style scoped>\n    .dataframe tbody tr th:only-of-type {\n        vertical-align: middle;\n    }\n\n    .dataframe tbody tr th {\n        vertical-align: top;\n    }\n\n    .dataframe thead th {\n        text-align: right;\n    }\n</style>\n<table border=\"1\" class=\"dataframe\">\n  <thead>\n    <tr style=\"text-align: right;\">\n      <th></th>\n      <th>Country</th>\n      <th>VFN</th>\n      <th>Mp</th>\n      <th>Mh</th>\n      <th>Man</th>\n      <th>MMS</th>\n      <th>Tan</th>\n      <th>T</th>\n      <th>Va</th>\n      <th>Ve</th>\n      <th>...</th>\n      <th>z (Wh/km)</th>\n      <th>IT</th>\n      <th>Ernedc (g/km)</th>\n      <th>Erwltp (g/km)</th>\n      <th>De</th>\n      <th>Vf</th>\n      <th>year</th>\n      <th>Date of registration</th>\n      <th>Fuel consumption</th>\n      <th>Electric range (km)</th>\n    </tr>\n    <tr>\n      <th>ID</th>\n      <th></th>\n      <th></th>\n      <th></th>\n      <th></th>\n      <th></th>\n      <th></th>\n      <th></th>\n      <th></th>\n      <th></th>\n      <th></th>\n      <th></th>\n      <th></th>\n      <th></th>\n      <th></th>\n      <th></th>\n      <th></th>\n      <th></th>\n      <th></th>\n      <th></th>\n      <th></th>\n      <th></th>\n    </tr>\n  </thead>\n  <tbody>\n    <tr>\n      <th>280060</th>\n      <td>BE</td>\n      <td>IP-02-VF1-2017-0004</td>\n      <td>RENAULT</td>\n      <td>RENAULT</td>\n      <td>RENAULT SAS</td>\n      <td>RENAULT S.A.S.</td>\n      <td>E2*2007/46*0457*13</td>\n      <td>AH</td>\n      <td>0BE2</td>\n      <td>M7LSA0100000</td>\n      <td>...</td>\n      <td>NaN</td>\n      <td>NaN</td>\n      <td>NaN</td>\n      <td>NaN</td>\n      <td>NaN</td>\n      <td>NaN</td>\n      <td>2019</td>\n      <td>NaN</td>\n      <td>NaN</td>\n      <td>NaN</td>\n    </tr>\n    <tr>\n      <th>280061</th>\n      <td>BE</td>\n      <td>IP-02-VF1-2017-0004</td>\n      <td>RENAULT</td>\n      <td>RENAULT</td>\n      <td>RENAULT SAS</td>\n      <td>RENAULT</td>\n      <td>E2*2007/46*0457*12</td>\n      <td>AH</td>\n      <td>0BE2</td>\n      <td>M7LSA0100000</td>\n      <td>...</td>\n      <td>NaN</td>\n      <td>NaN</td>\n      <td>NaN</td>\n      <td>NaN</td>\n      <td>NaN</td>\n      <td>NaN</td>\n      <td>2019</td>\n      <td>NaN</td>\n      <td>NaN</td>\n      <td>NaN</td>\n    </tr>\n    <tr>\n      <th>280062</th>\n      <td>BE</td>\n      <td>IP-HNP____MB6_1424-W0V-0</td>\n      <td>PSA-OPEL</td>\n      <td>OPEL AUTOMOBILE</td>\n      <td>OPEL AUTOMOBILE GMBH</td>\n      <td>OPEL AUTOMOBILE GMBH</td>\n      <td>E4*2007/46*1194*08</td>\n      <td>P7 MONOCAB C</td>\n      <td>EA025DB12</td>\n      <td>BA1VADPH0A5</td>\n      <td>...</td>\n      <td>NaN</td>\n      <td>E2 17</td>\n      <td>1.2</td>\n      <td>NaN</td>\n      <td>NaN</td>\n      <td>NaN</td>\n      <td>2019</td>\n      <td>NaN</td>\n      <td>NaN</td>\n      <td>NaN</td>\n    </tr>\n    <tr>\n      <th>280063</th>\n      <td>BE</td>\n      <td>IP-HNP____MB6_1424-W0V-0</td>\n      <td>PSA-OPEL</td>\n      <td>OPEL AUTOMOBILE</td>\n      <td>OPEL AUTOMOBILE GMBH</td>\n      <td>OPEL AUTOMOBILE GMBH</td>\n      <td>E4*2007/46*1194*08</td>\n      <td>P7 MONOCAB C</td>\n      <td>EA025DB12</td>\n      <td>BA1VADPH0A5</td>\n      <td>...</td>\n      <td>NaN</td>\n      <td>E2 17</td>\n      <td>1.2</td>\n      <td>NaN</td>\n      <td>NaN</td>\n      <td>NaN</td>\n      <td>2019</td>\n      <td>NaN</td>\n      <td>NaN</td>\n      <td>NaN</td>\n    </tr>\n    <tr>\n      <th>280064</th>\n      <td>BE</td>\n      <td>IP-HNP____MB6_1424-W0V-0</td>\n      <td>PSA-OPEL</td>\n      <td>OPEL AUTOMOBILE</td>\n      <td>OPEL AUTOMOBILE GMBH</td>\n      <td>OPEL AUTOMOBILE GMBH</td>\n      <td>E4*2007/46*1194*08</td>\n      <td>P7 MONOCAB C</td>\n      <td>EA025DB12</td>\n      <td>BA1VADPH0A5</td>\n      <td>...</td>\n      <td>NaN</td>\n      <td>E2 17</td>\n      <td>1.2</td>\n      <td>NaN</td>\n      <td>NaN</td>\n      <td>NaN</td>\n      <td>2019</td>\n      <td>NaN</td>\n      <td>NaN</td>\n      <td>NaN</td>\n    </tr>\n  </tbody>\n</table>\n<p>5 rows × 35 columns</p>\n</div>"
     },
     "execution_count": 18,
     "metadata": {},
     "output_type": "execute_result"
    }
   ],
   "source": [
    "df.head()"
   ],
   "metadata": {
    "collapsed": false
   }
  },
  {
   "cell_type": "code",
   "execution_count": 6,
   "outputs": [],
   "source": [
    "#another columns to drop (based on common sense)\n",
    "drop_list = [\n",
    "    \"VFN\", \"Mp\", \"Mh\", \"Man\", \"MMS\", \"Tan\", \"T\", \"Va\", \"Ve\", \"Ct\", \"Cr\", \"W (mm)\", \"At1 (mm)\",\n",
    "    \"At2 (mm)\", \"z (Wh/km)\", \"Ernedc (g/km)\", \"Erwltp (g/km)\", \"De\", \"Vf\", \"Date of registration\",\n",
    "    \"Electric range (km)\"\n",
    "    ]\n",
    "\n",
    "df = df.drop(drop_list, axis=1)"
   ],
   "metadata": {
    "collapsed": false
   }
  },
  {
   "cell_type": "code",
   "execution_count": 7,
   "outputs": [
    {
     "name": "stdout",
     "output_type": "stream",
     "text": [
      "<class 'pandas.core.frame.DataFrame'>\n",
      "Int64Index: 42502542 entries, 280060 to 162072500\n",
      "Data columns (total 15 columns):\n",
      " #   Column             Dtype  \n",
      "---  ------             -----  \n",
      " 0   Country            object \n",
      " 1   Mk                 object \n",
      " 2   Cn                 object \n",
      " 3   r                  int64  \n",
      " 4   m (kg)             float64\n",
      " 5   Mt                 float64\n",
      " 6   Enedc (g/km)       float64\n",
      " 7   Ewltp (g/km)       float64\n",
      " 8   Ft                 object \n",
      " 9   Fm                 object \n",
      " 10  ec (cm3)           float64\n",
      " 11  ep (KW)            float64\n",
      " 12  IT                 object \n",
      " 13  year               int64  \n",
      " 14  Fuel consumption   float64\n",
      "dtypes: float64(7), int64(2), object(6)\n",
      "memory usage: 5.1+ GB\n"
     ]
    }
   ],
   "source": [
    "df.info()"
   ],
   "metadata": {
    "collapsed": false
   }
  },
  {
   "cell_type": "code",
   "execution_count": 21,
   "outputs": [
    {
     "data": {
      "text/plain": "Country                   923\nMk                      22616\nCn                      34183\nr                           0\nm (kg)                    126\nMt                     678157\nEwltp (g/km)                0\nFt                      12927\nFm                         19\nec (cm3)              1125880\nep (KW)               3829130\nIT                   22154578\nyear                        0\nFuel consumption     31276613\ndtype: int64"
     },
     "execution_count": 21,
     "metadata": {},
     "output_type": "execute_result"
    }
   ],
   "source": [
    "df.isnull().sum()"
   ],
   "metadata": {
    "collapsed": false
   }
  },
  {
   "cell_type": "code",
   "execution_count": 22,
   "outputs": [
    {
     "data": {
      "text/plain": "Index(['Country', 'Mk', 'Cn', 'r', 'm (kg)', 'Mt', 'Ewltp (g/km)', 'Ft', 'Fm',\n       'ec (cm3)', 'ep (KW)', 'IT', 'year', 'Fuel consumption '],\n      dtype='object')"
     },
     "execution_count": 22,
     "metadata": {},
     "output_type": "execute_result"
    }
   ],
   "source": [
    "df.columns"
   ],
   "metadata": {
    "collapsed": false
   }
  },
  {
   "cell_type": "code",
   "execution_count": 44,
   "outputs": [],
   "source": [
    "#aggregating rows after deleting columns\n",
    "#df1 = df.groupby(['Country', 'Mk', 'Cn', 'm (kg)', 'Mt', 'Ewltp (g/km)', 'Ft', 'Fm',\n",
    "#            'ec (cm3)', 'ep (KW)', 'IT', 'year', 'Fuel consumption ']).agg('count')\n",
    "df1 = df.groupby(['Country', 'Mk', 'Cn', 'm (kg)', 'Mt', 'Ewltp (g/km)', 'Ft', 'Fm',\n",
    "                  'ec (cm3)', 'ep (KW)', 'IT', 'year']).agg({'r': 'sum'}).copy()"
   ],
   "metadata": {
    "collapsed": false
   }
  },
  {
   "cell_type": "code",
   "execution_count": 27,
   "outputs": [
    {
     "data": {
      "text/plain": "1     31276602\n2            6\n4            2\n20           1\n22           1\n10           1\nName: r, dtype: int64"
     },
     "execution_count": 27,
     "metadata": {},
     "output_type": "execute_result"
    }
   ],
   "source": [
    "df[\"r\"].value_counts()"
   ],
   "metadata": {
    "collapsed": false
   }
  },
  {
   "cell_type": "code",
   "execution_count": 45,
   "outputs": [
    {
     "data": {
      "text/plain": "                                                                                                     r\nCountry Mk         Cn          m (kg) Mt     Ewltp (g/km) Ft     Fm ec (cm3) ep (KW) IT       year    \nAT      ALFA ROMEO ALFA GIULIA 1504.0 1675.0 177.0        PETROL M  1995.0   148.0   e3 17 25 2020   1\n                                      1685.0 179.0        PETROL M  1995.0   148.0   e3 17 25 2020   1\n                                      1724.0 176.0        PETROL M  1995.0   148.0   e3 17 25 2020   1\n                                      1786.0 184.0        PETROL M  1995.0   148.0   e3 17    2020  16\n                               1540.0 1709.0 142.0        DIESEL M  2143.0   140.0   e3 17 25 2020   1",
      "text/html": "<div>\n<style scoped>\n    .dataframe tbody tr th:only-of-type {\n        vertical-align: middle;\n    }\n\n    .dataframe tbody tr th {\n        vertical-align: top;\n    }\n\n    .dataframe thead th {\n        text-align: right;\n    }\n</style>\n<table border=\"1\" class=\"dataframe\">\n  <thead>\n    <tr style=\"text-align: right;\">\n      <th></th>\n      <th></th>\n      <th></th>\n      <th></th>\n      <th></th>\n      <th></th>\n      <th></th>\n      <th></th>\n      <th></th>\n      <th></th>\n      <th></th>\n      <th></th>\n      <th>r</th>\n    </tr>\n    <tr>\n      <th>Country</th>\n      <th>Mk</th>\n      <th>Cn</th>\n      <th>m (kg)</th>\n      <th>Mt</th>\n      <th>Ewltp (g/km)</th>\n      <th>Ft</th>\n      <th>Fm</th>\n      <th>ec (cm3)</th>\n      <th>ep (KW)</th>\n      <th>IT</th>\n      <th>year</th>\n      <th></th>\n    </tr>\n  </thead>\n  <tbody>\n    <tr>\n      <th rowspan=\"5\" valign=\"top\">AT</th>\n      <th rowspan=\"5\" valign=\"top\">ALFA ROMEO</th>\n      <th rowspan=\"5\" valign=\"top\">ALFA GIULIA</th>\n      <th rowspan=\"4\" valign=\"top\">1504.0</th>\n      <th>1675.0</th>\n      <th>177.0</th>\n      <th>PETROL</th>\n      <th>M</th>\n      <th>1995.0</th>\n      <th>148.0</th>\n      <th>e3 17 25</th>\n      <th>2020</th>\n      <td>1</td>\n    </tr>\n    <tr>\n      <th>1685.0</th>\n      <th>179.0</th>\n      <th>PETROL</th>\n      <th>M</th>\n      <th>1995.0</th>\n      <th>148.0</th>\n      <th>e3 17 25</th>\n      <th>2020</th>\n      <td>1</td>\n    </tr>\n    <tr>\n      <th>1724.0</th>\n      <th>176.0</th>\n      <th>PETROL</th>\n      <th>M</th>\n      <th>1995.0</th>\n      <th>148.0</th>\n      <th>e3 17 25</th>\n      <th>2020</th>\n      <td>1</td>\n    </tr>\n    <tr>\n      <th>1786.0</th>\n      <th>184.0</th>\n      <th>PETROL</th>\n      <th>M</th>\n      <th>1995.0</th>\n      <th>148.0</th>\n      <th>e3 17</th>\n      <th>2020</th>\n      <td>16</td>\n    </tr>\n    <tr>\n      <th>1540.0</th>\n      <th>1709.0</th>\n      <th>142.0</th>\n      <th>DIESEL</th>\n      <th>M</th>\n      <th>2143.0</th>\n      <th>140.0</th>\n      <th>e3 17 25</th>\n      <th>2020</th>\n      <td>1</td>\n    </tr>\n  </tbody>\n</table>\n</div>"
     },
     "execution_count": 45,
     "metadata": {},
     "output_type": "execute_result"
    }
   ],
   "source": [
    "df1.head()"
   ],
   "metadata": {
    "collapsed": false
   }
  },
  {
   "cell_type": "code",
   "execution_count": null,
   "outputs": [],
   "source": [],
   "metadata": {
    "collapsed": false
   }
  },
  {
   "cell_type": "code",
   "execution_count": 46,
   "outputs": [
    {
     "name": "stdout",
     "output_type": "stream",
     "text": [
      "<class 'pandas.core.frame.DataFrame'>\n",
      "MultiIndex: 1472017 entries, ('AT', 'ALFA ROMEO', 'ALFA GIULIA', 1504.0, 1675.0, 177.0, 'PETROL', 'M', 1995.0, 148.0, 'e3 17 25', 2020) to ('SK', 'ŠKODA', 'ŠKODA SCALA', 1209.0, 1347.0, 126.0, 'PETROL', 'M', 999.0, 85.0, 'e8 17 19', 2020)\n",
      "Data columns (total 1 columns):\n",
      " #   Column  Non-Null Count    Dtype\n",
      "---  ------  --------------    -----\n",
      " 0   r       1472017 non-null  int64\n",
      "dtypes: int64(1)\n",
      "memory usage: 39.5+ MB\n"
     ]
    }
   ],
   "source": [
    "df1.info()"
   ],
   "metadata": {
    "collapsed": false
   }
  },
  {
   "cell_type": "code",
   "execution_count": 47,
   "outputs": [],
   "source": [
    "#lst = [df]\n",
    "#del lst"
   ],
   "metadata": {
    "collapsed": false
   }
  },
  {
   "cell_type": "code",
   "execution_count": 8,
   "outputs": [],
   "source": [
    "df.reset_index(drop=True, inplace=True)\n",
    "df.to_feather(\"/Users/olehpolupan/DataspellProjects/JAN23_BDS_INT-Rakuten/data/all_years_feather.csv\")"
   ],
   "metadata": {
    "collapsed": false
   }
  },
  {
   "cell_type": "markdown",
   "source": [
    "Field name \tField Definition \tData type \tPrimary key \n",
    "ID\tIdentification number\tinteger\tYes\n",
    "MS\tMember state\tvarchar(2)\tNo\n",
    "Mp\tManufacturer pooling\tvarchar(50)\tNo\n",
    "VFN\tVehicle family identification number\tvarchar(25)\tNo\n",
    "Mh\n",
    "Manufacturer name\n",
    "\n",
    "EU standard denomination\n",
    "varchar(50)\tNo\n",
    "Man\tManufacturer name OEM declaration\tvarchar(50)\tNo\n",
    "MMS\n",
    "Manufacturer name\n",
    "\n",
    "MS registry denomination\n",
    "varchar(125)\tNo\n",
    "TAN\tType approval number\tvarchar(50)\tNo\n",
    "T\tType\tvarchar(25)\tNo\n",
    "Va\tVariant\tvarchar(25)\tNo\n",
    "Ve\tVersion\tvarchar(35)\tNo\n",
    "Mk\tMake\tvarchar(25)\tNo\n",
    "Cn\tCommercial name\tvarchar(50)\tNo\n",
    "Ct\tCategory of the vehicle type approved\tvarchar(5)\tNo\n",
    "Cr\tCategory of the vehicle registered\tvarchar(5)\tNo\n",
    "M (kg)\n",
    "Mass in running order\n",
    "\n",
    "Completed/complete vehicle\n",
    "integer\tNo\n",
    "Mt\tWLTP test mass\tinteger\tNo\n",
    "Enedc (g/km)\tSpecific CO2 Emissions (NEDC)\tinteger\tNo\n",
    "Ewltp (g/km)\tSpecific CO2 Emissions (WLTP)\tinteger\tNo\n",
    "W (mm)\tWheel Base\tinteger\tNo\n",
    "At1 (mm)\tAxle width steering axle\tinteger\tNo\n",
    "At2 (mm)\tAxle width other axle\tinteger\tNo\n",
    "Ft\tFuel type\tvarchar(25)\tNo\n",
    "Fm\tFuel mode\tvarchar(1)\tNo\n",
    "Ec (cm3)\tEngine capacity\tinteger\tNo\n",
    "Ep (KW)\tEngine power\tinteger\tNo\n",
    "Z (Wh/km)\tElectric energy consumption\tinteger\tNo\n",
    "IT\tInnovative technology or group of innovative technologies\tvarchar(25)\tNo\n",
    "Ernedc (g/km)\tEmissions reduction through innovative technologies\tfloat\tNo\n",
    "Erwltp (g/km)\tEmissions reduction through innovative technologies (WLTP)\tfloat\tNo\n",
    "De\tDeviation factor\tfloat\tNo\n",
    "Vf\tVerification factor\tinteger\tNo\n",
    "R\tTotal new registrations\tinteger\tNo\n",
    "Year\tReporting year\tinteger\tNo\n",
    "Status\tP = Provisional data, F = Final data\tvarchar(1)\tNo\n",
    "Version_file\tInternal versioning of deliverables\tvarchar(10)\tNo\n",
    "E (g/km)\tSpecific CO2 Emission. Deprecated value, only relevant for data until 2016\tfloat\tNo\n",
    "Er (g/km)\tEmissions reduction through innovative technologies. Deprecated value, only relevant for data until 2016\tfloat\tNo\n",
    "Zr\tElectric range\tinteger\tNo\n",
    "Dr\tRegistration date\tdate\tNo\n",
    "Fc\tFuel consumption\tfloat\tNo\n",
    "CO2 passenger cars (elastic data viewer)"
   ],
   "metadata": {
    "collapsed": false
   }
  },
  {
   "cell_type": "code",
   "execution_count": 49,
   "outputs": [
    {
     "data": {
      "text/plain": "  Country       Mk           Cn  r  m (kg)      Mt  Ewltp (g/km)      Ft Fm  \\\n0      BE  RENAULT       TWINGO  1   970.0  1104.0         129.0  PETROL  M   \n1      BE  RENAULT       TWINGO  1   970.0  1082.0         130.0  PETROL  M   \n2      BE     OPEL  CROSSLAND X  1  1254.0  1425.0         140.0  PETROL  M   \n3      BE     OPEL  CROSSLAND X  1  1254.0  1426.0         140.0  PETROL  M   \n4      BE     OPEL  CROSSLAND X  1  1254.0  1425.0         140.0  PETROL  M   \n\n   ec (cm3)  ep (KW)     IT  year  Fuel consumption   \n0     999.0     52.0   None  2019                NaN  \n1     999.0     52.0   None  2019                NaN  \n2    1199.0     81.0  E2 17  2019                NaN  \n3    1199.0     81.0  E2 17  2019                NaN  \n4    1199.0     81.0  E2 17  2019                NaN  ",
      "text/html": "<div>\n<style scoped>\n    .dataframe tbody tr th:only-of-type {\n        vertical-align: middle;\n    }\n\n    .dataframe tbody tr th {\n        vertical-align: top;\n    }\n\n    .dataframe thead th {\n        text-align: right;\n    }\n</style>\n<table border=\"1\" class=\"dataframe\">\n  <thead>\n    <tr style=\"text-align: right;\">\n      <th></th>\n      <th>Country</th>\n      <th>Mk</th>\n      <th>Cn</th>\n      <th>r</th>\n      <th>m (kg)</th>\n      <th>Mt</th>\n      <th>Ewltp (g/km)</th>\n      <th>Ft</th>\n      <th>Fm</th>\n      <th>ec (cm3)</th>\n      <th>ep (KW)</th>\n      <th>IT</th>\n      <th>year</th>\n      <th>Fuel consumption</th>\n    </tr>\n  </thead>\n  <tbody>\n    <tr>\n      <th>0</th>\n      <td>BE</td>\n      <td>RENAULT</td>\n      <td>TWINGO</td>\n      <td>1</td>\n      <td>970.0</td>\n      <td>1104.0</td>\n      <td>129.0</td>\n      <td>PETROL</td>\n      <td>M</td>\n      <td>999.0</td>\n      <td>52.0</td>\n      <td>None</td>\n      <td>2019</td>\n      <td>NaN</td>\n    </tr>\n    <tr>\n      <th>1</th>\n      <td>BE</td>\n      <td>RENAULT</td>\n      <td>TWINGO</td>\n      <td>1</td>\n      <td>970.0</td>\n      <td>1082.0</td>\n      <td>130.0</td>\n      <td>PETROL</td>\n      <td>M</td>\n      <td>999.0</td>\n      <td>52.0</td>\n      <td>None</td>\n      <td>2019</td>\n      <td>NaN</td>\n    </tr>\n    <tr>\n      <th>2</th>\n      <td>BE</td>\n      <td>OPEL</td>\n      <td>CROSSLAND X</td>\n      <td>1</td>\n      <td>1254.0</td>\n      <td>1425.0</td>\n      <td>140.0</td>\n      <td>PETROL</td>\n      <td>M</td>\n      <td>1199.0</td>\n      <td>81.0</td>\n      <td>E2 17</td>\n      <td>2019</td>\n      <td>NaN</td>\n    </tr>\n    <tr>\n      <th>3</th>\n      <td>BE</td>\n      <td>OPEL</td>\n      <td>CROSSLAND X</td>\n      <td>1</td>\n      <td>1254.0</td>\n      <td>1426.0</td>\n      <td>140.0</td>\n      <td>PETROL</td>\n      <td>M</td>\n      <td>1199.0</td>\n      <td>81.0</td>\n      <td>E2 17</td>\n      <td>2019</td>\n      <td>NaN</td>\n    </tr>\n    <tr>\n      <th>4</th>\n      <td>BE</td>\n      <td>OPEL</td>\n      <td>CROSSLAND X</td>\n      <td>1</td>\n      <td>1254.0</td>\n      <td>1425.0</td>\n      <td>140.0</td>\n      <td>PETROL</td>\n      <td>M</td>\n      <td>1199.0</td>\n      <td>81.0</td>\n      <td>E2 17</td>\n      <td>2019</td>\n      <td>NaN</td>\n    </tr>\n  </tbody>\n</table>\n</div>"
     },
     "execution_count": 49,
     "metadata": {},
     "output_type": "execute_result"
    }
   ],
   "source": [
    "test = pd.read_feather(\"/Users/olehpolupan/DataspellProjects/JAN23_BDS_INT-Rakuten/data/feather.csv\")\n",
    "test.head()"
   ],
   "metadata": {
    "collapsed": false
   }
  },
  {
   "cell_type": "code",
   "execution_count": 50,
   "outputs": [
    {
     "name": "stdout",
     "output_type": "stream",
     "text": [
      "<class 'pandas.core.frame.DataFrame'>\n",
      "RangeIndex: 31276613 entries, 0 to 31276612\n",
      "Data columns (total 14 columns):\n",
      " #   Column             Dtype  \n",
      "---  ------             -----  \n",
      " 0   Country            object \n",
      " 1   Mk                 object \n",
      " 2   Cn                 object \n",
      " 3   r                  int64  \n",
      " 4   m (kg)             float64\n",
      " 5   Mt                 float64\n",
      " 6   Ewltp (g/km)       float64\n",
      " 7   Ft                 object \n",
      " 8   Fm                 object \n",
      " 9   ec (cm3)           float64\n",
      " 10  ep (KW)            float64\n",
      " 11  IT                 object \n",
      " 12  year               int64  \n",
      " 13  Fuel consumption   float64\n",
      "dtypes: float64(6), int64(2), object(6)\n",
      "memory usage: 3.3+ GB\n"
     ]
    }
   ],
   "source": [
    "test.info()"
   ],
   "metadata": {
    "collapsed": false
   }
  }
 ],
 "metadata": {
  "kernelspec": {
   "display_name": "Python 3",
   "language": "python",
   "name": "python3"
  },
  "language_info": {
   "codemirror_mode": {
    "name": "ipython",
    "version": 2
   },
   "file_extension": ".py",
   "mimetype": "text/x-python",
   "name": "python",
   "nbconvert_exporter": "python",
   "pygments_lexer": "ipython2",
   "version": "2.7.6"
  }
 },
 "nbformat": 4,
 "nbformat_minor": 0
}
