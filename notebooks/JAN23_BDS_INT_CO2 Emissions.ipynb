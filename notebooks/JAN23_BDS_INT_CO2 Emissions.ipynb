{
 "cells": [
  {
   "cell_type": "code",
   "execution_count": null,
   "metadata": {
    "collapsed": true
   },
   "outputs": [],
   "source": [
    "import streamlit as st\n",
    "\n",
    "import config"
   ]
  },
  {
   "cell_type": "code",
   "execution_count": null,
   "metadata": {
    "collapsed": false,
    "lines_to_next_cell": 2
   },
   "outputs": [],
   "source": [
    "st.set_page_config(\n",
    "    page_title=config.TITLE,\n",
    "    page_icon=\"https://datascientest.com/wp-content/uploads/2020/03/cropped-favicon-datascientest-1-32x32.png\",\n",
    ")\n",
    "\n",
    "st.sidebar.image(\n",
    "    \"https://i0.wp.com/datascientest.com/wp-content/uploads/2022/03/logo-2021.png?w=429&ssl=1\",\n",
    "    width=200,\n",
    ")\n",
    "#st.sidebar.markdown(\"---\")\n",
    "st.sidebar.markdown(f\"## {config.PROMOTION}\")\n",
    "\n",
    "st.sidebar.markdown(\"### Team members:\")\n",
    "for member in config.TEAM_MEMBERS:\n",
    "    st.sidebar.markdown(member.sidebar_markdown(), unsafe_allow_html=True)\n",
    "\n",
    "\n",
    "\n",
    "#st.image(\"https://i0.wp.com/datascientest.com/wp-content/uploads/2022/03/logo-2021.png?w=429&ssl=1\")\n",
    "\n",
    "st.image(\"https://www.allianz-autowelt.de/sites/default/files/styles/detail_page_image_large/public/2019-03/tuev-abgasuntersuchung-abgase.jpg?itok=Nc6fgXrJ\")\n",
    "\n",
    "st.title(\"CO2 emissions by vehicles\")\n",
    "\n",
    "st.markdown(\"---\")\n",
    "\n",
    "st.subheader(\"Description of the project:\")\n",
    "\n",
    "st.markdown(\"Identifying the vehicles that emit the most CO2 is important to identify the technical characteristics that play a role in pollution. Predicting this pollution in advance makes it possible to prevent the appearance of new types of vehicles (new series of cars for example).\")\n",
    "\n",
    "st.subheader(\"Data:\")\n",
    "st.markdown(\"In this data set, you will find all the technical characteristics of vehicles marketed in France in 2013, as well as fuel consumption, CO2 emissions and pollutant emissions into the air.\")\n",
    "st.markdown(\"https://www.data.gouv.fr/fr/datasets/emissions-de-co2-et-de-polluants-des-vehicules-commercialises-en-france/#_\")\n",
    "\n",
    "st.markdown(\"CO2 and pollutant emissions of vehicles marketed in France - data.gouv.fr In this one: the CO2 emissions of all the cars that come out each year (several hundred thousand vehicles per year, the dataset for new cars from 2019 alone weighs more than 1gb) with a little more info than that govt data\")\n",
    "st.markdown(\"https://www.eea.europa.eu/data-and-maps/data/co2-cars-emission-20\")\n",
    "\n",
    "#st.subheader(\"Project team:\")\n",
    "#col1, col2, col3 = st.columns(3)\n",
    "\n",
    "#with col1:\n",
    "#    st.image(\"https://media.licdn.com/dms/image/C4D03AQGABHxqE2Ct8A/profile-displayphoto-shrink_800_800/0/1612613299861?e=1684972800&v=beta&t=OwCvG0fl23Rqn8bjZ_HeXJ4nyQwnW3td0aNJ27Q175Q\")\n",
    "#    st.subheader(\"Rauf Isgandarov\")\n",
    "#    st.markdown(\"Finance | Fintech | Business Intelligence | Big Data\")\n",
    "#    st.markdown(\"[GitHub](https://github.com/risgandar) / [LinkedIn](https://linkedin.com/in/rauf-isgandarov-56365a195)\")\n",
    "\n",
    "#with col2:\n",
    "#    st.image(\"https://media.licdn.com/dms/image/C4E03AQEepZrEwr5MZg/profile-displayphoto-shrink_800_800/0/1653754732831?e=1684972800&v=beta&t=4tGLYdHr_Mpae0LF1NVP_pqmCP4lQuYzsklU83we9Ac\")\n",
    "#    st.subheader(\"Marianthi Maniou\")\n",
    "#    st.markdown(\"Data Scientist & Online Math Tutor\")\n",
    "#    st.markdown(\"[GitHub](https://github.com/manimari) / [LinkedIn](https://www.linkedin.com/in/marianthi-maniou/)\")\n",
    "\n",
    "#with col3:\n",
    "#    st.image(\"https://media.licdn.com/dms/image/C4E03AQFkte7fb2a1qw/profile-displayphoto-shrink_400_400/0/1667917848753?e=1684972800&v=beta&t=AMONIJq33uzWmg082S0Mspu9j21uJvSBQYFh19rnSzI\")\n",
    " #   st.subheader(\"Oleh Polupan\")\n",
    " #   st.markdown(\"Data Scientist / Reporting Analyst\")\n",
    " #   st.markdown(\"[GitHub](https://github.com/oleh-polupan) / [LinkedIn](https://www.linkedin.com/in/oleh-polupan-55946656/)\")"
   ]
  },
  {
   "cell_type": "code",
   "execution_count": null,
   "metadata": {
    "collapsed": false
   },
   "outputs": [],
   "source": [
    "#jupytext --set-formats ipynb,py:percent \"/Users/olehpolupan/DataspellProjects/JAN23_BDS_INT-Rakuten/notebooks/JAN23_BDS_INT_CO2 Emissions.ipynb\"\n",
    "\n",
    "#jupytext --sync \"/Users/olehpolupan/DataspellProjects/JAN23_BDS_INT-Rakuten/notebooks/JAN23_BDS_INT_CO2 Emissions.ipynb\"\n",
    "\n",
    "#streamlit run \"/Users/olehpolupan/DataspellProjects/JAN23_BDS_INT-Rakuten/notebooks/JAN23_BDS_INT_CO2 Emissions.py\""
   ]
  }
 ],
 "metadata": {
  "jupytext": {
   "formats": "ipynb,py:percent"
  },
  "kernelspec": {
   "display_name": "Python 3",
   "language": "python",
   "name": "python3"
  },
  "language_info": {
   "codemirror_mode": {
    "name": "ipython",
    "version": 2
   },
   "file_extension": ".py",
   "mimetype": "text/x-python",
   "name": "python",
   "nbconvert_exporter": "python",
   "pygments_lexer": "ipython2",
   "version": "2.7.6"
  }
 },
 "nbformat": 4,
 "nbformat_minor": 0
}
