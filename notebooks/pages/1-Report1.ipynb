{
 "cells": [
  {
   "cell_type": "code",
   "execution_count": null,
   "metadata": {
    "collapsed": true
   },
   "outputs": [],
   "source": [
    "import streamlit as st"
   ]
  },
  {
   "cell_type": "code",
   "execution_count": null,
   "metadata": {
    "collapsed": false
   },
   "outputs": [],
   "source": [
    "import config\n",
    "\n",
    "st.set_page_config(\n",
    "   page_title=config.TITLE,\n",
    "   page_icon=\"https://datascientest.com/wp-content/uploads/2020/03/cropped-favicon-datascientest-1-32x32.png\",\n",
    ")\n",
    "\n",
    "st.sidebar.image(\n",
    "   \"https://i0.wp.com/datascientest.com/wp-content/uploads/2022/03/logo-2021.png?w=429&ssl=1\",\n",
    "   width=200,\n",
    ")\n",
    "#st.sidebar.markdown(\"---\")\n",
    "st.sidebar.markdown(f\"## {config.PROMOTION}\")\n",
    "\n",
    "st.sidebar.markdown(\"### Team members:\")\n",
    "for member in config.TEAM_MEMBERS:\n",
    "   st.sidebar.markdown(member.sidebar_markdown(), unsafe_allow_html=True)\n"
   ]
  },
  {
   "cell_type": "code",
   "execution_count": null,
   "metadata": {
    "collapsed": false
   },
   "outputs": [],
   "source": [
    "st.title(\"Exploration, data visualization and data pre-processing\")\n",
    "st.markdown(\"---\")"
   ]
  },
  {
   "cell_type": "code",
   "execution_count": null,
   "metadata": {
    "collapsed": false
   },
   "outputs": [],
   "source": [
    "st.markdown(\"The New European Driving Cycle (NEDC) was a driving cycle, last updated in 1997, designed to assess the emission levels of car engines and fuel economy in passenger cars (which excludes light trucks and commercial vehicles). It is also referred to as MVEG cycle (Motor Vehicle Emissions Group).\")\n",
    "\n",
    "with st.expander(\"More details about NEDC\"):\n",
    "   st.markdown(\"The NEDC was conceived when European vehicles were lighter and less powerful. The test offers a stylized driving speed pattern with low accelerations, constant speed cruises, and many idling events. However, accelerations are much steeper and variable in practice, which is in part caused by the power surplus of modern engines as the 0–100 km/h (0–62 mph) average-time decreased from 14 seconds in 1981 to 9 seconds in 2007. In 1998, a Swedish researcher criticized the NEDC standard for allowing large emission differences between test and reality.\")\n",
    "\n",
    "   st.markdown(\"The WLTP replaces the European NEDC based procedure for type approval testing of light-duty vehicles, with the transition from NEDC to WLTP occurring over 2017-2019. The WLTP is also introduced for vehicle certification in Japan.\")\n",
    "\n",
    "   st.markdown(\"[Wikipedia: New European Driving Cycle](https://en.wikipedia.org/wiki/New_European_Driving_Cycle)\")\n",
    "\n",
    "st.markdown(\"The Worldwide harmonized Light vehicles Test Procedure (WLTP) is a global standard for determining the levels of pollutants, CO2 emissions and fuel consumption of traditional and hybrid cars, as well as the range of fully electric vehicles.\")\n",
    "\n",
    "with st.expander(\"More details about WLTP\"):\n",
    "   st.markdown(\"The new standard has been designed to be more representative of real and modern driving conditions. To pursue this goal, the WLTP is 10 minutes longer than the NEDC (30 instead of 20 minutes), its velocity profile is more dynamic, consisting of quicker accelerations followed by short brakes. Moreover, the average and the maximum velocities have been increased to 46.5 km/h and 131.3 km/h respectively. The distance covered is 23.25 km (more than double the 11 kilometers of the NEDC).\")\n",
    "\n",
    "st.markdown(\n",
    "   \"\"\"\n",
    "   The key differences between the old NEDC and new WLTP test are that WLTP:\n",
    "   - has higher average and maximum speeds\n",
    "   - includes a wider range of driving conditions (urban, suburban, main road, highway)\n",
    "   - simulates a longer distance\n",
    "   - has higher average and maximum drive power\n",
    "   - looks at steeper accelerations and decelerations\n",
    "   - tests optional equipment separately\n",
    "   \"\"\"\n",
    ")\n",
    "\n",
    "st.markdown(\"[Wikipedia: Worldwide Harmonised Light Vehicles Test Procedure](https://en.wikipedia.org/wiki/Worldwide_Harmonised_Light_Vehicles_Test_Procedure)\")\n",
    "\n",
    "st.markdown(\"So, we have two datasets with old and new types of approval\")\n",
    "\n",
    "tab1, tab2 = st.tabs([\"NEDC (France)\", \"WLTP (EU)\"])\n",
    "\n",
    "with tab1:\n",
    "   st.header(\"NEDC (France)\")\n",
    "   st.image(\"https://static.streamlit.io/examples/cat.jpg\", width=200)\n",
    "\n",
    "with tab2:\n",
    "   st.header(\"WLTP (EU)\")\n",
    "   st.image(\"https://static.streamlit.io/examples/dog.jpg\", width=200)\n"
   ]
  },
  {
   "cell_type": "markdown",
   "metadata": {
    "collapsed": false
   },
   "source": [
    "Introduction to the project\n",
    "Context\n",
    "Context of the project's integration into your business.\n",
    "From a technical point of view.\n",
    "From an economic point of view.\n",
    "From a scientific point of view.\n",
    "\n",
    "Objectives\n",
    "What are the main objectives to be achieved? Describe in a few lines.\n",
    "For each member of the group, specify the level of expertise around the problem addressed?\n",
    "Have you contacted business experts to refine the problem and the underlying models? If yes, detail the contribution of these interactions.\n",
    "(Are you aware of a similar project within your company, or in your entourage? What is its progress? How has it helped you in the realization of your project? How does your project contribute to improving it?).\n",
    "\n",
    "\n",
    "\n",
    "Understanding and manipulation of data\n",
    "Framework\n",
    "Which set(s) of data(s) did you use to achieve the objectives of your project?\n",
    "Are these data freely available? If not, who owns the data?\n",
    "Describe the volume of your dataset?\n",
    "Relevance\n",
    "Which variables seem most relevant to you with regard to your objectives?\n",
    "What is the target variable?\n",
    "What features of your dataset can you highlight?\n",
    "Are you limited by some of your data?\n",
    "Pre-processing and feature engineering\n",
    "Did you have to clean and process the data? If yes, describe your treatment process.\n",
    "Did you have to carry out normalization/standardization type transformations of your data? If yes, why?\n",
    "Are you considering dimension reduction techniques in the modeling part? If yes, why?\n",
    "Visualizations and Statistics\n",
    "Have you identified relationships between different variables? Between explanatory variables? and between your explanatory variables and the target(s)?\n",
    "Describe the distribution of these data, distribution, outliers.. (pre/post processing if necessary)\n",
    "Present the statistical analyzes used to confirm the information present on the graphs.\n",
    "Draw conclusions from the elements noted above allowing them to project themselves into the modeling part\n",
    "\n",
    "\n",
    "Assessment methods:\n",
    "Reconstituted professional situation: from a set of company data, the candidate must implement various pre-processing and data augmentation to make them usable through machine learning techniques.\n"
   ]
  },
  {
   "cell_type": "code",
   "execution_count": null,
   "metadata": {
    "collapsed": false
   },
   "outputs": [],
   "source": [
    "#jupytext --set-formats ipynb,py:percent \"/Users/olehpolupan/DataspellProjects/JAN23_BDS_INT-Rakuten/notebooks/pages/1-Report1.ipynb\"\n",
    "\n",
    "#jupytext --sync \"/Users/olehpolupan/DataspellProjects/JAN23_BDS_INT-Rakuten/notebooks/pages/1-Report1.ipynb\"\n",
    "\n",
    "#streamlit run \"/Users/olehpolupan/DataspellProjects/JAN23_BDS_INT-Rakuten/notebooks/JAN23_BDS_INT_CO2 Emissions.py\""
   ]
  }
 ],
 "metadata": {
  "jupytext": {
   "formats": "ipynb,py:percent"
  },
  "kernelspec": {
   "display_name": "Python 3",
   "language": "python",
   "name": "python3"
  },
  "language_info": {
   "codemirror_mode": {
    "name": "ipython",
    "version": 2
   },
   "file_extension": ".py",
   "mimetype": "text/x-python",
   "name": "python",
   "nbconvert_exporter": "python",
   "pygments_lexer": "ipython2",
   "version": "2.7.6"
  }
 },
 "nbformat": 4,
 "nbformat_minor": 0
}
