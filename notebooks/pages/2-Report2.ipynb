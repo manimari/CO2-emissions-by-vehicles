{
 "cells": [
  {
   "cell_type": "code",
   "execution_count": null,
   "metadata": {
    "collapsed": true
   },
   "outputs": [],
   "source": [
    "import streamlit as st"
   ]
  },
  {
   "cell_type": "code",
   "execution_count": null,
   "metadata": {
    "collapsed": false
   },
   "outputs": [],
   "source": [

    "import config\n",
    "\n",
    "st.set_page_config(\n",
    "    page_title=config.TITLE,\n",
    "    page_icon=\"https://datascientest.com/wp-content/uploads/2020/03/cropped-favicon-datascientest-1-32x32.png\",\n",
    ")\n",
    "\n",
    "st.sidebar.image(\n",
    "    \"https://i0.wp.com/datascientest.com/wp-content/uploads/2022/03/logo-2021.png?w=429&ssl=1\",\n",
    "    width=200,\n",
    ")\n",
    "#st.sidebar.markdown(\"---\")\n",
    "st.sidebar.markdown(f\"## {config.PROMOTION}\")\n",
    "\n",
    "st.sidebar.markdown(\"### Team members:\")\n",
    "for member in config.TEAM_MEMBERS:\n",
    "    st.sidebar.markdown(member.sidebar_markdown(), unsafe_allow_html=True)\n",
    "\n"
   ]
  },
  {
   "cell_type": "code",
   "execution_count": null,
   "metadata": {
    "collapsed": false
   },
   "outputs": [],
   "source": [
    "st.title(\"Report 2: modeling\")\n",
    "st.markdown(\"---\")"
   ]
  },
  {
   "cell_type": "markdown",
   "metadata": {
    "collapsed": false
   },
   "source": [
    "Stages of the project\n",
    "Classification of the problem\n",
    "What kind of machine learning problem is your project like? (classification, regression, clustering, etc)\n",
    "What task does your project relate to? (fraud detection, facial recognition, sentiment analysis, etc)?\n",
    "What is the main performance metric used to compare your models? Why this one?\n",
    "Did you use other qualitative or quantitative performance metrics? If yes, detail it.\n",
    "Model choice and optimization\n",
    "What algorithms have you tried?\n",
    "Describe which one(s) you selected and why?\n",
    "Did you use parameter optimization techniques such as Grid Search and Cross Validation?\n",
    "Have you tested advanced models? Bagging, Boosting, Deep Learning… Why?\n",
    "Interpretation of results\n",
    "Have you analyzed the errors in your model?\n",
    "Did this contribute to his improvement? If yes, describe.\n",
    "Have you used interpretability techniques such as SHAP, LIME, Skater… (Grad-CAM for Deep Learning…)\n",
    "What has (or not) generated a significant improvement in your performance?\n",
    "\n",
    "\n",
    "Assessment methods:\n",
    "Professional scenario: based on a proposed solution, the candidate will have to produce a summary report including: the explanation of the choices of AI solutions implemented, the interpretation of the results, the evaluation of the reliability of the algorithms and an optimization proposal.\n"
   ]
  },
  {
   "cell_type": "code",
   "execution_count": null,
   "metadata": {
    "collapsed": false
   },
   "outputs": [],
   "source": [
    "#jupytext --set-formats ipynb,py:percent \"/Users/olehpolupan/DataspellProjects/JAN23_BDS_INT-Rakuten/notebooks/pages/2-Report2.ipynb\"\n",
    "\n",
    "#jupytext --sync \"/Users/olehpolupan/DataspellProjects/JAN23_BDS_INT-Rakuten/notebooks/pages/2-Report2.ipynb\"\n",
    "\n",
    "#streamlit run \"/Users/olehpolupan/DataspellProjects/JAN23_BDS_INT-Rakuten/notebooks/JAN23_BDS_INT_CO2 Emissions.py\""
   ]
  }
 ],
 "metadata": {
  "jupytext": {
   "formats": "ipynb,py:percent"
  },
  "kernelspec": {
   "display_name": "Python 3",
   "language": "python",
   "name": "python3"
  },
  "language_info": {
   "codemirror_mode": {
    "name": "ipython",
    "version": 2
   },
   "file_extension": ".py",
   "mimetype": "text/x-python",
   "name": "python",
   "nbconvert_exporter": "python",
   "pygments_lexer": "ipython2",
   "version": "2.7.6"
  }
 },
 "nbformat": 4,
 "nbformat_minor": 0
}
