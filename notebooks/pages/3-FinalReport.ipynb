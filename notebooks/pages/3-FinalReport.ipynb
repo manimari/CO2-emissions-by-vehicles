{
 "cells": [
  {
   "cell_type": "code",
   "execution_count": null,
   "metadata": {
    "collapsed": true
   },
   "outputs": [],
   "source": [
    "import streamlit as st"
   ]
  },
  {
   "cell_type": "code",
   "execution_count": null,
   "metadata": {
    "collapsed": false
   },
   "outputs": [],
   "source": [

    "import config\n",
    "\n",
    "st.set_page_config(\n",
    "    page_title=config.TITLE,\n",
    "    page_icon=\"https://datascientest.com/wp-content/uploads/2020/03/cropped-favicon-datascientest-1-32x32.png\",\n",
    ")\n",
    "\n",
    "st.sidebar.image(\n",
    "    \"https://i0.wp.com/datascientest.com/wp-content/uploads/2022/03/logo-2021.png?w=429&ssl=1\",\n",
    "    width=200,\n",
    ")\n",
    "#st.sidebar.markdown(\"---\")\n",
    "st.sidebar.markdown(f\"## {config.PROMOTION}\")\n",
    "\n",
    "st.sidebar.markdown(\"### Team members:\")\n",
    "for member in config.TEAM_MEMBERS:\n",
    "    st.sidebar.markdown(member.sidebar_markdown(), unsafe_allow_html=True)\n"
   ]
  },
  {
   "cell_type": "code",
   "execution_count": null,
   "metadata": {
    "collapsed": false
   },
   "outputs": [],
   "source": [
    "st.title(\"Final report\")\n",
    "st.markdown(\"---\")"
   ]
  },
  {
   "cell_type": "markdown",
   "metadata": {
    "collapsed": false
   },
   "source": [
    "Conclusion drawn\n",
    "Difficulties encountered during the project\n",
    "What was the main scientific obstacle encountered during this project?\n",
    "For each of the following points, if you encountered difficulties, detail how they slowed you down in setting up your project.\n",
    "Forecast: tasks that took longer than expected, etc.\n",
    "Datasets: acquisition, volumetry, processing, aggregation, etc.\n",
    "Technical/theoretical skills: timing of skill acquisition, skill not offered in training, etc.\n",
    "Relevance: of the approach, model, data, etc.\n",
    "IT: storage power, computational power, etc.\n",
    "Other\n",
    "Report\n",
    "Detail what was your main contribution to achieving the project's goals.\n",
    "Have you changed the model since the last iteration? If yes, provide details.\n",
    "Present the results obtained and compare them to the benchmark\n",
    "For each of the project's goals, detail how they were achieved or not.\n",
    "If they have been reached, in which process(es) can your model fit? Detail.\n",
    "\n",
    "Continuation of the project\n",
    "\n",
    "What avenues for improvement do you suggest to increase the performance of your model?\n",
    "How has your project contributed to an increase in scientific knowledge?\n",
    "Bibliography\n",
    "What bibliographical elements (research articles, blog, books, etc.) did you rely on to carry out your project?\n",
    "Appendices\n",
    "Gantt diagram.\n",
    "Description of code files.\n"
   ]
  },
  {
   "cell_type": "code",
   "execution_count": null,
   "metadata": {
    "collapsed": false
   },
   "outputs": [],
   "source": [
    "#jupytext --set-formats ipynb,py:percent \"/Users/olehpolupan/DataspellProjects/JAN23_BDS_INT-Rakuten/notebooks/pages/3-FinalReport.ipynb\"\n",
    "\n",
    "#jupytext --sync \"/Users/olehpolupan/DataspellProjects/JAN23_BDS_INT-Rakuten/notebooks/pages/3-FinalReport.ipynb\"\n",
    "\n",
    "#streamlit run \"/Users/olehpolupan/DataspellProjects/JAN23_BDS_INT-Rakuten/notebooks/JAN23_BDS_INT_CO2 Emissions.py\""
   ]
  }
 ],
 "metadata": {
  "jupytext": {
   "formats": "ipynb,py:percent"
  },
  "kernelspec": {
   "display_name": "Python 3",
   "language": "python",
   "name": "python3"
  },
  "language_info": {
   "codemirror_mode": {
    "name": "ipython",
    "version": 2
   },
   "file_extension": ".py",
   "mimetype": "text/x-python",
   "name": "python",
   "nbconvert_exporter": "python",
   "pygments_lexer": "ipython2",
   "version": "2.7.6"
  }
 },
 "nbformat": 4,
 "nbformat_minor": 0
}
